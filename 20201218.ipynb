{
 "cells": [
  {
   "cell_type": "markdown",
   "metadata": {
    "slideshow": {
     "slide_type": "slide"
    }
   },
   "source": [
    "# Introduction to Quantum Computation\n",
    "*by [Ana Neri](https://anac.nery.name/)*"
   ]
  },
  {
   "cell_type": "markdown",
   "metadata": {
    "slideshow": {
     "slide_type": "slide"
    }
   },
   "source": [
    "## Content\n",
    "\n",
    "* [What is a quantum computer?](#quantumcomputer) \n",
    "* [A (qu)bit of theory](#theory)\n",
    "* [Creating and Running your first Quantum Circuit](#quantumcircuit)\n",
    "* [Final remarks](#final)"
   ]
  },
  {
   "cell_type": "markdown",
   "metadata": {
    "slideshow": {
     "slide_type": "skip"
    }
   },
   "source": [
    "<a id='quantumcomputer'></a>"
   ]
  },
  {
   "cell_type": "markdown",
   "metadata": {
    "slideshow": {
     "slide_type": "slide"
    }
   },
   "source": [
    "## What is a quantum computer?"
   ]
  },
  {
   "cell_type": "markdown",
   "metadata": {
    "slideshow": {
     "slide_type": "subslide"
    }
   },
   "source": [
    "The classical computers are improving fast. \n",
    "\n",
    "However, their development is reaching the physical limit."
   ]
  },
  {
   "cell_type": "markdown",
   "metadata": {
    "slideshow": {
     "slide_type": "subslide"
    }
   },
   "source": [
    "The components (namely, transistors) that make our classical computers are getting smaller. \n",
    "\n",
    "So small that they now have to handle problems like the **quantum tunnelling effects**. "
   ]
  },
  {
   "cell_type": "markdown",
   "metadata": {
    "slideshow": {
     "slide_type": "subslide"
    }
   },
   "source": [
    "The existence of quantum tunnelling in the component means that it is no longer **deterministic**.\n",
    "\n",
    "The computer is no longer working with $0$'s and $1$'s but rather the **probability** of $0$'s and $1$'s. "
   ]
  },
  {
   "cell_type": "markdown",
   "metadata": {
    "slideshow": {
     "slide_type": "subslide"
    }
   },
   "source": [
    "Furthermore, there is a growing pile of **problems too complex** for classical computers. "
   ]
  },
  {
   "cell_type": "markdown",
   "metadata": {
    "slideshow": {
     "slide_type": "subslide"
    }
   },
   "source": [
    "Richard Feynman came up with a solution that solve the issues:\n",
    "\n",
    "\"*Nature isn't classical, dammit, and if you want to make a simulation of nature, you'd better make it quantum mechanical, and by golly it's a wonderful problem, because it doesn't look so easy.*\" - Feynman."
   ]
  },
  {
   "cell_type": "markdown",
   "metadata": {
    "slideshow": {
     "slide_type": "skip"
    }
   },
   "source": [
    "<a id='theory'></a>"
   ]
  },
  {
   "cell_type": "markdown",
   "metadata": {
    "slideshow": {
     "slide_type": "slide"
    }
   },
   "source": [
    "## A (qu)bit of theory"
   ]
  },
  {
   "cell_type": "markdown",
   "metadata": {
    "slideshow": {
     "slide_type": "slide"
    }
   },
   "source": [
    "### Superposition"
   ]
  },
  {
   "cell_type": "markdown",
   "metadata": {
    "slideshow": {
     "slide_type": "subslide"
    }
   },
   "source": [
    "Superposition is the concept associated with the famous thought experiment: **Schrödinger's cat**. \n",
    "\n",
    "<img src=\"img/cat02.png\" alt=\"Note: In order for images to show up in this jupyter notebook you need to select File => Trusted Notebook\" width=\"250 px\" align=\"center\">\n",
    "\n",
    "In this mental experiment, a cat is on a box with a radioactive material, that may or not release some particles. If the material releases particles, a device will register their presence and unleash a deadly poison. \n",
    "After one hour, the cat has 50 per cent chances of being dead. \n",
    "Since we can not be sure about the cat state until we open the box, so instead of clamming the cat is dead OR alive, we say it is in a mixed probability of dead AND alive. In other words, until its observation, it is in all possible states."
   ]
  },
  {
   "cell_type": "markdown",
   "metadata": {
    "slideshow": {
     "slide_type": "slide"
    }
   },
   "source": [
    "### The qubit"
   ]
  },
  {
   "cell_type": "markdown",
   "metadata": {
    "slideshow": {
     "slide_type": "subslide"
    }
   },
   "source": [
    "A single qubit quantum state is usually represented with the *ket* notation:\n",
    "\n",
    "$$|\\psi\\rangle = \\alpha |0 \\rangle + \\beta | 1 \\rangle $$\n",
    "\n",
    "Or with a vector:\n",
    "$$ |\\psi \\rangle = \\begin{bmatrix} \\alpha \\\\ \\beta \\end{bmatrix} \\rightarrow |0\\rangle = \\begin{bmatrix}1 \\\\ 0 \\end{bmatrix}; |1 \\rangle = \\begin{bmatrix} 0 \\\\ 1\\end{bmatrix}$$\n",
    "\n",
    "\n",
    "Since it is normalized $|\\alpha|^2 + |\\beta|^2$ its is also posible to use the following representation:\n",
    "$$|\\psi \\rangle = \\cos{\\bigg( \\frac{\\theta}{2}} \\bigg) |0 \\rangle + \\sin{ \\bigg( \\frac{\\theta}{2}}\\bigg) e^{i \\phi}|1\\rangle $$"
   ]
  },
  {
   "cell_type": "markdown",
   "metadata": {
    "slideshow": {
     "slide_type": "fragment"
    }
   },
   "source": [
    "**Bloch Spere**\n",
    "\n",
    "<img src=\"img/Bloch_sphere.svg\" alt=\"Note: In order for images to show up in this jupyter notebook you need to select File => Trusted Notebook\" width=\"250 px\" align=\"center\">"
   ]
  },
  {
   "cell_type": "markdown",
   "metadata": {
    "slideshow": {
     "slide_type": "slide"
    }
   },
   "source": [
    "### Quantum single qubit gates\n",
    "\n",
    "Although the basic gate set of IBM Q devices is\n",
    "$$\\{id,u1,u2,u3,cx\\}$$\n",
    "\n",
    "Where\n",
    "$$U_3(\\theta,\\phi,\\lambda)= \\begin{bmatrix}\\cos(\\theta/2) & -e^{i\\lambda}\\sin(\\theta/2) \\\\ e^{i\\lambda}sin(θ/2) & e^{i\\lambda+i\\phi}cos(θ/2)\\end{bmatrix} $$.\n",
    "\n",
    "QISKit supports many gates. (Check the [Summary of quantum operations]() in the tutorials of Terra)"
   ]
  },
  {
   "cell_type": "markdown",
   "metadata": {
    "slideshow": {
     "slide_type": "subslide"
    }
   },
   "source": [
    "**Gate X**\n",
    "\n",
    "The X-gate is also known as NOT gate or “bit-flip”, since it changes a state $| 0 \\rangle $ to $| 1 \\rangle $ and vice versa. This is the quantum analogue to a classical NOT gate.\n",
    "\n",
    "On the Bloch sphere representation, this operation corresponds to a rotation of the state around the X-axis by $\\pi$ radians."
   ]
  },
  {
   "cell_type": "code",
   "execution_count": null,
   "metadata": {
    "slideshow": {
     "slide_type": "fragment"
    }
   },
   "outputs": [],
   "source": []
  },
  {
   "cell_type": "markdown",
   "metadata": {
    "slideshow": {
     "slide_type": "subslide"
    }
   },
   "source": [
    "**Gate H**\n",
    "\n",
    "The Hadamard gate may be used to create superposition. It maps the basis state $| 0 \\rangle$ to $| + \\rangle =\\frac{| 0 \\rangle + | 1 \\rangle }{\\sqrt{2}}$, and $| 1 \\rangle $ to $ | - \\rangle =\\frac{ |0 \\rangle - |1 \\rangle }{\\sqrt{2}}$. On the Bloch sphere, $| + \\rangle$ and $| - \\rangle $ are represented by points on the X axis.\n",
    "\n",
    "When measured, these states have equal probability of becoming $| 1\\rangle $ or $| 0 \\rangle $, since the square modulus of the probability amplitude for each of the basis states has equal value.\n",
    "\n",
    "In fact, $|+\\rangle $ and $| - \\rangle $ are indistinguishable when measured on the computational basis. However, the states can be identified by measuring the qubit on the superposition basis, i.e. along the X-axis. A way to achieve this is by simply applying an Hadamard gate before performing the measurement."
   ]
  },
  {
   "cell_type": "markdown",
   "metadata": {
    "slideshow": {
     "slide_type": "fragment"
    }
   },
   "source": []
  },
  {
   "cell_type": "markdown",
   "metadata": {
    "slideshow": {
     "slide_type": "subslide"
    }
   },
   "source": [
    "**Gate Z**\n",
    "\n",
    "The phase-flip gate is defined as:\n",
    "\n",
    "$$Z = \\begin{bmatrix} 1 & 0 \\\\ 0 & -1 \\end{bmatrix}$$\n",
    "\n",
    "It leaves the basis state $|0\\rangle$ unchanged, while mapping $|1\\rangle$ to $−|1\\rangle$. In the Bloch sphere representation, and similarly to the X gate, it rotates the state around the Z axis by $\\pi$ radians."
   ]
  },
  {
   "cell_type": "markdown",
   "metadata": {
    "slideshow": {
     "slide_type": "fragment"
    }
   },
   "source": []
  },
  {
   "cell_type": "markdown",
   "metadata": {
    "slideshow": {
     "slide_type": "slide"
    }
   },
   "source": [
    "### Entanglement"
   ]
  },
  {
   "cell_type": "markdown",
   "metadata": {
    "slideshow": {
     "slide_type": "subslide"
    }
   },
   "source": []
  },
  {
   "cell_type": "markdown",
   "metadata": {
    "slideshow": {
     "slide_type": "slide"
    }
   },
   "source": [
    "### Quantum multiqubit gates"
   ]
  },
  {
   "cell_type": "markdown",
   "metadata": {
    "slideshow": {
     "slide_type": "subslide"
    }
   },
   "source": [
    "The CNOT gate, also known as controlled-X, is the fundamental two-qubit gate. Together with a generalized single-qubit unitary gate, we are able to decompose any multi-qubit operation. The CNOT gate takes one qubit as control, and one qubit as target.\n",
    "\n",
    "* if the control qubit is in the state $|0\\rangle$, the target qubit is left alone;\n",
    "* if the control qubit is in the state $|1\\rangle$, the X gate is applied to the target qubit.\n",
    "\n",
    "This gate allows us to unlock a powerful property of quantum particles: entanglement. Without it, quantum computers would lose most of their potential advantage over the classical computing paradigm.\n",
    "\n",
    "In quantum circuits, CNOT gates are used to entangle pairs of qubits."
   ]
  },
  {
   "cell_type": "markdown",
   "metadata": {
    "slideshow": {
     "slide_type": "skip"
    }
   },
   "source": [
    "<a id='quantumcircuit'></a>"
   ]
  },
  {
   "cell_type": "markdown",
   "metadata": {
    "slideshow": {
     "slide_type": "slide"
    }
   },
   "source": [
    "## Creating and Running your first Quantum Circuit"
   ]
  },
  {
   "cell_type": "markdown",
   "metadata": {
    "slideshow": {
     "slide_type": "slide"
    }
   },
   "source": [
    "### IBM Quantum Experience\n",
    "\n",
    "IBM Quantum Experience is an online platform that allows anyone it may concern the access to Quantum processors via clould. \n",
    "How to start:\n",
    "\n",
    "1. Follow the link: [https://quantum-computing.ibm.com/](https://quantum-computing.ibm.com/)\n",
    "2. Create an account.\n",
    "\n",
    "\n",
    "<img src=\"img/IBMQExperence01.png\" alt=\"Note: In order for images to show up in this jupyter notebook you need to select File => Trusted Notebook\" width=\"500 px\" align=\"center\">\n"
   ]
  },
  {
   "cell_type": "markdown",
   "metadata": {
    "slideshow": {
     "slide_type": "subslide"
    }
   },
   "source": [
    "In this webpage you have access to:\n",
    "\n",
    "* information about the the quantum processors available - **backends**;\n",
    "* information about the programs you write, execute and are still waiting for execution;\n",
    "* "
   ]
  },
  {
   "cell_type": "markdown",
   "metadata": {},
   "source": [
    "2. [https://qiskit.org/](https://qiskit.org/)"
   ]
  },
  {
   "cell_type": "code",
   "execution_count": null,
   "metadata": {},
   "outputs": [],
   "source": []
  },
  {
   "cell_type": "markdown",
   "metadata": {
    "slideshow": {
     "slide_type": "skip"
    }
   },
   "source": [
    "<a id='final'></a>"
   ]
  },
  {
   "cell_type": "markdown",
   "metadata": {
    "slideshow": {
     "slide_type": "slide"
    }
   },
   "source": [
    "## Final remarks"
   ]
  },
  {
   "cell_type": "markdown",
   "metadata": {
    "slideshow": {
     "slide_type": "subslide"
    }
   },
   "source": []
  },
  {
   "cell_type": "code",
   "execution_count": 1,
   "metadata": {},
   "outputs": [
    {
     "name": "stderr",
     "output_type": "stream",
     "text": [
      "/opt/conda/lib/python3.7/site-packages/qiskit/providers/ibmq/ibmqfactory.py:192: UserWarning: Timestamps in IBMQ backend properties, jobs, and job results are all now in local time instead of UTC.\n",
      "  warnings.warn('Timestamps in IBMQ backend properties, jobs, and job results '\n"
     ]
    }
   ],
   "source": [
    "%matplotlib inline\n",
    "# Importing standard Qiskit libraries\n",
    "from qiskit import QuantumCircuit, execute, Aer, IBMQ\n",
    "from qiskit.compiler import transpile, assemble\n",
    "from qiskit.tools.jupyter import *\n",
    "from qiskit.visualization import *\n",
    "from iqx import *\n",
    "\n",
    "# Loading your IBM Q account(s)\n",
    "provider = IBMQ.load_account()"
   ]
  },
  {
   "cell_type": "code",
   "execution_count": null,
   "metadata": {},
   "outputs": [],
   "source": []
  }
 ],
 "metadata": {
  "celltoolbar": "Slideshow",
  "kernelspec": {
   "display_name": "Python 3",
   "language": "python",
   "name": "python3"
  },
  "language_info": {
   "codemirror_mode": {
    "name": "ipython",
    "version": 3
   },
   "file_extension": ".py",
   "mimetype": "text/x-python",
   "name": "python",
   "nbconvert_exporter": "python",
   "pygments_lexer": "ipython3",
   "version": "3.8.5"
  }
 },
 "nbformat": 4,
 "nbformat_minor": 4
}
